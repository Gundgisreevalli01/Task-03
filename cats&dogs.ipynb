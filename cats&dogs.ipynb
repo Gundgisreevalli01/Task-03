{
 "cells": [
  {
   "cell_type": "code",
   "execution_count": 2,
   "id": "b925a9ae-433e-4e15-810b-55ee54235b73",
   "metadata": {},
   "outputs": [
    {
     "name": "stdout",
     "output_type": "stream",
     "text": [
      "Accuracy on synthetic dataset: 100.00%\n",
      "Classification report:\n",
      "               precision    recall  f1-score   support\n",
      "\n",
      "         Cat       1.00      1.00      1.00        20\n",
      "         Dog       1.00      1.00      1.00        20\n",
      "\n",
      "    accuracy                           1.00        40\n",
      "   macro avg       1.00      1.00      1.00        40\n",
      "weighted avg       1.00      1.00      1.00        40\n",
      "\n"
     ]
    },
    {
     "data": {
      "image/png": "[encoded data removed]",
      "text/plain": [
       "<Figure size 1500x300 with 10 Axes>"
      ]
     },
     "metadata": {},
     "output_type": "display_data"
    }
   ],
   "source": [
    "import numpy as np\n",
    "from PIL import Image, ImageDraw\n",
    "from sklearn.model_selection import train_test_split\n",
    "from sklearn.svm import SVC\n",
    "from sklearn.metrics import accuracy_score, classification_report\n",
    "from sklearn.preprocessing import StandardScaler\n",
    "import matplotlib.pyplot as plt\n",
    "\n",
    "# Generate synthetic dataset: simple colored squares to represent cats and dogs\n",
    "def create_synthetic_images(n_per_class=50, size=(64, 64)):\n",
    "    images = []\n",
    "    labels = []\n",
    "\n",
    "    for _ in range(n_per_class):\n",
    "        # Create \"cat\" images - red squares with some distortion\n",
    "        img_cat = Image.new('RGB', size, color='red')\n",
    "        draw = ImageDraw.Draw(img_cat)\n",
    "        draw.rectangle([5, 5, size[0]-5, size[1]-5], outline='black')\n",
    "        imgs_cat = np.array(img_cat).flatten()\n",
    "        images.append(imgs_cat)\n",
    "        labels.append(0)  # label for cat\n",
    "\n",
    "        # Create \"dog\" images - blue squares with different pattern\n",
    "        img_dog = Image.new('RGB', size, color='blue')\n",
    "        draw = ImageDraw.Draw(img_dog)\n",
    "        draw.ellipse([10, 10, size[0]-10, size[1]-10], outline='white')\n",
    "        imgs_dog = np.array(img_dog).flatten()\n",
    "        images.append(imgs_dog)\n",
    "        labels.append(1)  # label for dog\n",
    "\n",
    "    return np.array(images), np.array(labels)\n",
    "\n",
    "# Generate dataset\n",
    "X, y = create_synthetic_images(n_per_class=100)\n",
    "\n",
    "# Split into training and test\n",
    "X_train, X_test, y_train, y_test = train_test_split(\n",
    "    X, y, test_size=0.2, random_state=42, stratify=y\n",
    ")\n",
    "\n",
    "# Scale features\n",
    "scaler = StandardScaler()\n",
    "X_train_scaled = scaler.fit_transform(X_train)\n",
    "X_test_scaled = scaler.transform(X_test)\n",
    "\n",
    "# Train SVM\n",
    "svm = SVC(kernel='linear', C=1.0, random_state=42)\n",
    "svm.fit(X_train_scaled, y_train)\n",
    "\n",
    "# Predict\n",
    "y_pred = svm.predict(X_test_scaled)\n",
    "\n",
    "# Evaluate\n",
    "accuracy = accuracy_score(y_test, y_pred)\n",
    "print(f\"Accuracy on synthetic dataset: {accuracy * 100:.2f}%\")\n",
    "print(\"Classification report:\\n\", classification_report(y_test, y_pred, target_names=['Cat', 'Dog']))\n",
    "\n",
    "# Visualize some predictions\n",
    "def show_samples(samples, labels_true, labels_pred, n=10):\n",
    "    plt.figure(figsize=(15, 3))\n",
    "    indices = np.random.choice(len(samples), n, replace=False)\n",
    "    for i, idx in enumerate(indices):\n",
    "        img = samples[idx].reshape(64, 64, 3).astype(np.uint8)\n",
    "        plt.subplot(1, n, i+1)\n",
    "        plt.imshow(img)\n",
    "        plt.title(f\"T:{'Cat' if labels_true[idx]==0 else 'Dog'}\\nP:{'Cat' if labels_pred[idx]==0 else 'Dog'}\")\n",
    "        plt.axis('off')\n",
    "    plt.show()\n",
    "\n",
    "show_samples(X_test, y_test, y_pred, n=10)"
   ]
  }
 ],
 "metadata": {
  "kernelspec": {
   "display_name": "Python [conda env:base] *",
   "language": "python",
   "name": "conda-base-py"
  },
  "language_info": {
   "codemirror_mode": {
    "name": "ipython",
    "version": 3
   },
   "file_extension": ".py",
   "mimetype": "text/x-python",
   "name": "python",
   "nbconvert_exporter": "python",
   "pygments_lexer": "ipython3",
   "version": "3.12.7"
  }
 },
 "nbformat": 4,
 "nbformat_minor": 5
}
